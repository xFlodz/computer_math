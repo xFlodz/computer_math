{
  "nbformat": 4,
  "nbformat_minor": 0,
  "metadata": {
    "colab": {
      "provenance": [],
      "authorship_tag": "ABX9TyNtuqv1t/1MnkHtq17E4Yyl",
      "include_colab_link": true
    },
    "kernelspec": {
      "name": "python3",
      "display_name": "Python 3"
    },
    "language_info": {
      "name": "python"
    }
  },
  "cells": [
    {
      "cell_type": "markdown",
      "metadata": {
        "id": "view-in-github",
        "colab_type": "text"
      },
      "source": [
        "<a href=\"https://colab.research.google.com/github/xFlodz/computer_math/blob/main/%D0%9C%D0%BE%D0%B4%D1%83%D0%BB%D1%8C_math.ipynb\" target=\"_parent\"><img src=\"https://colab.research.google.com/assets/colab-badge.svg\" alt=\"Open In Colab\"/></a>"
      ]
    },
    {
      "cell_type": "code",
      "execution_count": 2,
      "metadata": {
        "id": "HR8xw8KSZZAY"
      },
      "outputs": [],
      "source": [
        "import math"
      ]
    },
    {
      "cell_type": "code",
      "source": [
        "#Задание 1\n",
        "\n",
        "\n",
        "#ax^2 + bx + c\n",
        "\n",
        "\n",
        "def counter(a, b, c):\n",
        "    d = math.pow(b, 2) - 4 * a * c\n",
        "    if d > 0:\n",
        "      x1 = (-b + (math.sqrt(d)))/2 * a\n",
        "      x2 = (-b - (math.sqrt(d)))/2 * a\n",
        "      print(f'Первое значение: {x1}; Второе значение: {x2}')\n",
        "    elif d == 0:\n",
        "      x = -b/2*a\n",
        "      print(f'Значение равно: {x}')\n",
        "    else:\n",
        "      print('Дискриминант меньше нуля')\n",
        "\n",
        "\n",
        "counter(1, -2, 1)\n",
        "counter(1, -3, 2)\n",
        "counter(1, 2, 3)"
      ],
      "metadata": {
        "colab": {
          "base_uri": "https://localhost:8080/"
        },
        "id": "eg8ZRf3lZeg3",
        "outputId": "068023b9-407f-4136-dc0d-f30b5faa1a16"
      },
      "execution_count": null,
      "outputs": [
        {
          "output_type": "stream",
          "name": "stdout",
          "text": [
            "Значение равно: 1.0\n",
            "Первое значение: 2.0; Второе значение: 1.0\n",
            "Дискриминант меньше нуля\n"
          ]
        }
      ]
    },
    {
      "cell_type": "code",
      "source": [
        "#Задание 2\n",
        "\n",
        "\n",
        "def func(x):\n",
        "    answer = math.pow(x, 2)\n",
        "    return answer\n",
        "\n",
        "def func2(x):\n",
        "    answer = math.sin(x)\n",
        "    return answer\n",
        "\n",
        "def trapezoidal_integral(f, a, b, n):\n",
        "    step = (b - a)/n\n",
        "    integral = (f(a) + f(b))*step/2\n",
        "    start_value = a\n",
        "    while a < b:\n",
        "        if a != start_value:\n",
        "          for_sum = f(a) * step\n",
        "          integral += for_sum\n",
        "        a += step\n",
        "    return integral\n",
        "\n",
        "final_answer = trapezoidal_integral(func2, 0, math.pi, 1000)\n",
        "final_answer2 = trapezoidal_integral(func, 0, 1, 100)\n",
        "print(final_answer2)\n",
        "print(final_answer)"
      ],
      "metadata": {
        "colab": {
          "base_uri": "https://localhost:8080/"
        },
        "id": "GoUsnHqZZjPe",
        "outputId": "cc325c63-aa21-4fe6-fcff-3dbf7e25b350"
      },
      "execution_count": null,
      "outputs": [
        {
          "output_type": "stream",
          "name": "stdout",
          "text": [
            "0.33335000000000037\n",
            "1.9999983550656881\n"
          ]
        }
      ]
    },
    {
      "cell_type": "code",
      "source": [
        "#Задание 3\n",
        "\n",
        "\n",
        "def f(x):\n",
        "    answer = (math.pow(x, 3)) - x - 2\n",
        "    return answer\n",
        "\n",
        "\n",
        "def func(a, b, n):\n",
        "    if f(a) * f(b) < 0:\n",
        "        while True:\n",
        "            if (b - a)/2 > n:\n",
        "                c = (a+b)/2\n",
        "                if f(c) == 0:\n",
        "                    return c\n",
        "                elif f(a) * f(c) < 0:\n",
        "                    b = c\n",
        "                else:\n",
        "                    a = c\n",
        "            else:\n",
        "              break\n",
        "        return c\n",
        "\n",
        "    else:\n",
        "        print('Метод не применим')\n",
        "        return False\n",
        "\n",
        "\n",
        "final_answer = func(1, 2, 0.001)\n",
        "print(final_answer)"
      ],
      "metadata": {
        "id": "-pNsDFuwaNsh",
        "colab": {
          "base_uri": "https://localhost:8080/"
        },
        "outputId": "090f9526-fb70-4dbb-8029-11c01bd5e2cb"
      },
      "execution_count": null,
      "outputs": [
        {
          "output_type": "stream",
          "name": "stdout",
          "text": [
            "1.521484375\n"
          ]
        }
      ]
    },
    {
      "cell_type": "code",
      "source": [
        "#Задание 4\n",
        "\n",
        "\n",
        "def func(p, r, t):\n",
        "    answer = p * math.exp(r * t)\n",
        "    return answer\n",
        "\n",
        "final_answer = func(10000, 0.05, 2)\n",
        "print(final_answer)"
      ],
      "metadata": {
        "colab": {
          "base_uri": "https://localhost:8080/"
        },
        "id": "l7hkVAPell_R",
        "outputId": "81ea518e-418b-411a-ca19-e6265744104c"
      },
      "execution_count": null,
      "outputs": [
        {
          "output_type": "stream",
          "name": "stdout",
          "text": [
            "11051.709180756478\n"
          ]
        }
      ]
    },
    {
      "cell_type": "code",
      "source": [
        "#Задание 5\n",
        "\n",
        "\n",
        "def func(p, a, t):\n",
        "    answer = math.log(a/p)/t\n",
        "    answer = round(answer * 100, 2)\n",
        "    return answer\n",
        "\n",
        "final_answer = func(10000, 11051.71, 2)\n",
        "print(final_answer)"
      ],
      "metadata": {
        "colab": {
          "base_uri": "https://localhost:8080/"
        },
        "id": "T_llwxysmcrF",
        "outputId": "92d0e4f0-b1ab-44ca-e38b-da651ca7cc5b"
      },
      "execution_count": null,
      "outputs": [
        {
          "output_type": "stream",
          "name": "stdout",
          "text": [
            "5.0\n"
          ]
        }
      ]
    },
    {
      "cell_type": "code",
      "source": [
        "#Задание 6\n",
        "\n",
        "\n",
        "def sqrt_newton_method(a, epsilon=1e-10):\n",
        "    x = a\n",
        "    while True:\n",
        "        next_x = 0.5 * (x + a / x)\n",
        "        if abs(x - next_x) > epsilon:\n",
        "            x = next_x\n",
        "        else:\n",
        "            return x\n",
        "\n",
        "\n",
        "def main(for_test):\n",
        "    answer1 = sqrt_newton_method(for_test)\n",
        "    answer2 = math.sqrt(for_test)\n",
        "    answer3 = abs(answer1 - answer2)\n",
        "    print(f'Вручную: {answer1}\\nПо функции: {answer2}\\nРазница: {answer3}')\n",
        "\n",
        "main(25)\n",
        "\n",
        "\n",
        "\n"
      ],
      "metadata": {
        "colab": {
          "base_uri": "https://localhost:8080/"
        },
        "id": "b0wlVqt9nqdz",
        "outputId": "5530d6a3-9f60-40e7-8cc1-5f0f78ca25b6"
      },
      "execution_count": null,
      "outputs": [
        {
          "output_type": "stream",
          "name": "stdout",
          "text": [
            "Вручную: 5.000000000053722\n",
            "По функции: 5.0\n",
            "Разница: 5.3722359893981775e-11\n"
          ]
        }
      ]
    },
    {
      "cell_type": "code",
      "source": [
        "#Задание 7\n",
        "\n",
        "\n",
        "def vector_lenght(x, y):\n",
        "    a = math.pow(x, 2) + math.pow(y, 2)\n",
        "    answer = math.sqrt(a)\n",
        "    return answer\n",
        "\n",
        "\n",
        "def angle_counter(x1, y1, x2, y2):\n",
        "    len_a = vector_lenght(x1, y1)\n",
        "    len_b = vector_lenght(x2, y2)\n",
        "    answer = ((x1 * x2) + (y1 * y2))/(len_a * len_b)\n",
        "    answer = math.degrees(math.acos(answer))\n",
        "    return answer\n",
        "\n",
        "final_answer1 = angle_counter(3, 0, 0, 4)\n",
        "final_answer2 = angle_counter(5, 5, 5, 5)\n",
        "final_answer3 = angle_counter(2, 3, 4, -1)\n",
        "print(f'{final_answer1}\\n{final_answer2}\\n{final_answer3}')"
      ],
      "metadata": {
        "colab": {
          "base_uri": "https://localhost:8080/"
        },
        "id": "GF6r_XhruTzc",
        "outputId": "154fbbe2-480d-4d8f-fb78-9f3ba43fcb70"
      },
      "execution_count": null,
      "outputs": [
        {
          "output_type": "stream",
          "name": "stdout",
          "text": [
            "90.0\n",
            "8.537736462515939e-07\n",
            "70.3461759419467\n"
          ]
        }
      ]
    },
    {
      "cell_type": "code",
      "source": [
        "#Задание 8\n",
        "\n",
        "\n",
        "def func(r, angle):\n",
        "    list_for_answer = []\n",
        "    rad  = math.radians(angle)\n",
        "    x = r * math.cos(rad)\n",
        "    y = r * math.sin(rad)\n",
        "    list_for_answer.append(x)\n",
        "    list_for_answer.append(y)\n",
        "    return list_for_answer\n",
        "\n",
        "final_answer1 = func(5, 45)\n",
        "final_answer2 = func(10, 90)\n",
        "final_answer3 = func(1, 0)\n",
        "print(f'{final_answer1}\\n{final_answer2}\\n{final_answer3}')"
      ],
      "metadata": {
        "colab": {
          "base_uri": "https://localhost:8080/"
        },
        "id": "n_3oUWlTv_cv",
        "outputId": "406cfa88-7c29-460d-aadd-ed065488eb13"
      },
      "execution_count": null,
      "outputs": [
        {
          "output_type": "stream",
          "name": "stdout",
          "text": [
            "[3.5355339059327378, 3.5355339059327373]\n",
            "[6.123233995736766e-16, 10.0]\n",
            "[1.0, 0.0]\n"
          ]
        }
      ]
    },
    {
      "cell_type": "code",
      "source": [
        "#Задание 9\n",
        "\n",
        "def func(x):\n",
        "    answer = 0.5 * (math.erf(x/math.sqrt(2)) - math.erf(-x/math.sqrt(2)))\n",
        "    return answer\n",
        "\n",
        "final_answer1 = func(1)\n",
        "final_answer2 = func(2)\n",
        "final_answer3 = func(0)\n",
        "print(f'{final_answer1}\\n{final_answer2}\\n{final_answer3}')"
      ],
      "metadata": {
        "colab": {
          "base_uri": "https://localhost:8080/"
        },
        "id": "7BFWYOwi1HKs",
        "outputId": "1bcd79e6-c3c9-415d-d271-28fafface333"
      },
      "execution_count": null,
      "outputs": [
        {
          "output_type": "stream",
          "name": "stdout",
          "text": [
            "0.6826894921370859\n",
            "0.9544997361036416\n",
            "0.0\n"
          ]
        }
      ]
    },
    {
      "cell_type": "code",
      "source": [
        "#Задание 10\n",
        "\n",
        "def func(n, r):\n",
        "    answer = (math.pow(math.pi, (n/2)) * math.pow(r, n)) / math.gamma(n/2 + 1)\n",
        "    return answer\n",
        "\n",
        "final_answer1 = func(2, 1)\n",
        "final_answer2 = func(3, 1)\n",
        "final_answer3 = func(10, 2)\n",
        "print(f'{final_answer1}\\n{final_answer2}\\n{final_answer3}')"
      ],
      "metadata": {
        "colab": {
          "base_uri": "https://localhost:8080/"
        },
        "id": "An9xaM4J1g4u",
        "outputId": "b1c0bb55-2df3-40b1-fcd3-2c29be2b31ef"
      },
      "execution_count": null,
      "outputs": [
        {
          "output_type": "stream",
          "name": "stdout",
          "text": [
            "3.141592653589793\n",
            "4.1887902047863905\n",
            "2611.3679768344014\n"
          ]
        }
      ]
    },
    {
      "cell_type": "code",
      "source": [
        "#Задание 11\n",
        "\n",
        "def func(a, I, P):\n",
        "    deg = (math.pi * a)/180\n",
        "    P_effective = math.exp(-P/101325)\n",
        "    I_surface = I * math.sin(deg) * math.log(P_effective + 1)\n",
        "    return round(I_surface, 2)\n",
        "\n",
        "final_answer1 = func(45, 1361, 101325)\n",
        "final_answer2 = func(187, 6500, 101325)\n",
        "final_answer3 = func(210, 24000, 101325)\n",
        "\n",
        "print(f'{final_answer1}\\n{final_answer2}\\n{final_answer3}')"
      ],
      "metadata": {
        "id": "36N4YKaw0L3o",
        "outputId": "7bde4d69-90b1-4109-c346-ea9b915cd2e7",
        "colab": {
          "base_uri": "https://localhost:8080/"
        }
      },
      "execution_count": 4,
      "outputs": [
        {
          "output_type": "stream",
          "name": "stdout",
          "text": [
            "301.47\n",
            "-248.15\n",
            "-3759.14\n"
          ]
        }
      ]
    }
  ]
}